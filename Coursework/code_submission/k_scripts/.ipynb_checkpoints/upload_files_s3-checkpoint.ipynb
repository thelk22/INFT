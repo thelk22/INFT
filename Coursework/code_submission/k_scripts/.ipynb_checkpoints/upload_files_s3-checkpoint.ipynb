{
 "cells": [
  {
   "cell_type": "code",
   "execution_count": 1,
   "metadata": {},
   "outputs": [],
   "source": [
    "import boto3\n",
    "\n",
    "s3_client = boto3.client('s3')\n",
    "bucket_name = 'inft-coursework'\n",
    "\n",
    "# Change the following two parameters to upload a different set of results\n",
    "folder_name = 'k_2'\n",
    "k = 2"
   ]
  },
  {
   "cell_type": "code",
   "execution_count": 13,
   "metadata": {},
   "outputs": [],
   "source": [
    "# Clear folder in S3 bucket\n",
    "for i in range(100):\n",
    "    trial_id = str(k) + '_' + str(i)\n",
    "    file_name = trial_id + '_avg_balance.csv'\n",
    "    file_path = folder_name + '/' + file_name\n",
    "    s3_client.delete_object(Bucket=bucket_name, Key=file_path)"
   ]
  },
  {
   "cell_type": "code",
   "execution_count": 2,
   "metadata": {},
   "outputs": [],
   "source": [
    "# Upload CSV files to folder in S3 bucket\n",
    "for i in range(100):\n",
    "    trial_id = str(k) + '_' + str(i)\n",
    "    file_name = trial_id + '_avg_balance.csv'\n",
    "    file_path = folder_name + '/' + file_name\n",
    "    s3_client.upload_file(file_name,bucket_name, file_path)"
   ]
  }
 ],
 "metadata": {
  "kernelspec": {
   "display_name": "Python 3",
   "language": "python",
   "name": "python3"
  },
  "language_info": {
   "codemirror_mode": {
    "name": "ipython",
    "version": 3
   },
   "file_extension": ".py",
   "mimetype": "text/x-python",
   "name": "python",
   "nbconvert_exporter": "python",
   "pygments_lexer": "ipython3",
   "version": "3.7.6"
  }
 },
 "nbformat": 4,
 "nbformat_minor": 5
}
