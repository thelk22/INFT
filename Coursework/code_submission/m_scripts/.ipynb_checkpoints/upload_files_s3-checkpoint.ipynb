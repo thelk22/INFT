{
 "cells": [
  {
   "cell_type": "code",
   "execution_count": 1,
   "metadata": {},
   "outputs": [],
   "source": [
    "import boto3\n",
    "\n",
    "s3_client = boto3.client('s3')\n",
    "bucket_name = 'inft-coursework'\n",
    "\n",
    "## CHOICES FOR M\n",
    "# Note: k is assumed to be 5 for some of these\n",
    "\n",
    "# m Description\n",
    "# 1 Draw all values from the distribution U(s − 0.05 , s + 0.05)\n",
    "# 2 Draw from the distribution N(s, 0.05)\n",
    "# 3 Randomly draw all values from the set {−1, −0.5, 0, 0.5, 1}\n",
    "# 4 Draw all values from the distribution U(−1, 1)\n",
    "# 5 Draw 2 values from either side of s\n",
    "# 6 Draw 2 values from either side of s, with 1 distant and 1 near on each side\n",
    "\n",
    "# Change the following two parameters to upload a different set of results\n",
    "folder_name = 'm_1'\n",
    "m = 1"
   ]
  },
  {
   "cell_type": "code",
   "execution_count": 13,
   "metadata": {},
   "outputs": [],
   "source": [
    "# Clear folder in S3 bucket\n",
    "for i in range(100):\n",
    "    trial_id = str(m) + '_' + str(i)\n",
    "    file_name = trial_id + '_avg_balance.csv'\n",
    "    file_path = folder_name + '/' + file_name\n",
    "    s3_client.delete_object(Bucket=bucket_name, Key=file_path)"
   ]
  },
  {
   "cell_type": "code",
   "execution_count": 14,
   "metadata": {},
   "outputs": [],
   "source": [
    "# Upload CSV files to folder in S3 bucket\n",
    "for i in range(100):\n",
    "    trial_id = str(m) + '_' + str(i)\n",
    "    file_name = trial_id + '_avg_balance.csv'\n",
    "    file_path = folder_name + '/' + file_name\n",
    "    s3_client.upload_file(file_name,bucket_name, file_path)"
   ]
  }
 ],
 "metadata": {
  "kernelspec": {
   "display_name": "Python 3",
   "language": "python",
   "name": "python3"
  },
  "language_info": {
   "codemirror_mode": {
    "name": "ipython",
    "version": 3
   },
   "file_extension": ".py",
   "mimetype": "text/x-python",
   "name": "python",
   "nbconvert_exporter": "python",
   "pygments_lexer": "ipython3",
   "version": "3.7.6"
  }
 },
 "nbformat": 4,
 "nbformat_minor": 5
}
